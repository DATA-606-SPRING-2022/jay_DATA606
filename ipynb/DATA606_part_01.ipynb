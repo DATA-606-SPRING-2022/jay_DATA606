{
  "nbformat": 4,
  "nbformat_minor": 0,
  "metadata": {
    "colab": {
      "name": "DATA606-part-01.ipynb",
      "provenance": [],
      "authorship_tag": "ABX9TyOvIpywv0fxrMLXDpqAxiwa",
      "include_colab_link": true
    },
    "kernelspec": {
      "name": "python3",
      "display_name": "Python 3"
    },
    "language_info": {
      "name": "python"
    }
  },
  "cells": [
    {
      "cell_type": "markdown",
      "metadata": {
        "id": "view-in-github",
        "colab_type": "text"
      },
      "source": [
        "<a href=\"https://colab.research.google.com/github/wcj365/jay_DATA606/blob/main/ipynb/DATA606_part_01.ipynb\" target=\"_parent\"><img src=\"https://colab.research.google.com/assets/colab-badge.svg\" alt=\"Open In Colab\"/></a>"
      ]
    },
    {
      "cell_type": "markdown",
      "source": [
        "# DATA606 Part One\n",
        "\n",
        "## Author: Jay Wang\n",
        "\n",
        "This is the first part of the capstone project. This part focuses on data loading and cleansing. "
      ],
      "metadata": {
        "id": "LmIIbS7AO4p-"
      }
    },
    {
      "cell_type": "code",
      "execution_count": null,
      "metadata": {
        "id": "3unY9_cCOlgu"
      },
      "outputs": [],
      "source": [
        "import pandas as pd"
      ]
    }
  ]
}